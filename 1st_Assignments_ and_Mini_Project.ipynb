{
 "cells": [
  {
   "cell_type": "code",
   "execution_count": 9,
   "id": "b4d71ff1-a58f-419c-b479-0f52a112be29",
   "metadata": {},
   "outputs": [
    {
     "name": "stdin",
     "output_type": "stream",
     "text": [
      "Enter the number of Rows: 5\n"
     ]
    },
    {
     "name": "stdout",
     "output_type": "stream",
     "text": [
      "*  \n",
      "* *  \n",
      "* * *  \n",
      "* * * *  \n",
      "* * * * *  \n",
      "* * * *  \n",
      "* * *  \n",
      "* *  \n",
      "*  \n",
      " \n"
     ]
    }
   ],
   "source": [
    "# Write a Python Program to Generate the Pattern:\n",
    "n=eval(input(\"Enter the number of Rows:\"))     \n",
    "for i in range(0,n):    \n",
    "    for j in range(0,i+1):    \n",
    "        print(\"*\",end=\" \")        \n",
    "    print(\" \")      \n",
    "for i in range(n,0,-1):    \n",
    "    for j in range(0,i-1):     \n",
    "        print(\"*\",end=\" \")    \n",
    "    print(\" \") "
   ]
  },
  {
   "cell_type": "code",
   "execution_count": 3,
   "id": "de859aed-8261-499a-ba17-aa0c667d6abe",
   "metadata": {},
   "outputs": [
    {
     "name": "stdin",
     "output_type": "stream",
     "text": [
      "Enter a Number: 7\n"
     ]
    },
    {
     "name": "stdout",
     "output_type": "stream",
     "text": [
      "7 is a Prime Number..\n"
     ]
    }
   ],
   "source": [
    "# Take a numbers as a input from user.Check Wheather it is Prime or Not.\n",
    "n=eval(input(\"Enter a Number:\"))\n",
    "if(n==1 or n==0):\n",
    "    print(n,\"is not a Prime Number..\")\n",
    "else:\n",
    "    for i in range(2,(n//2)+1):\n",
    "        if (n%i)==0:\n",
    "            print(n,\"is not a Prime Number..\")\n",
    "            break\n",
    "    else:\n",
    "        print(n, \"is a Prime Number..\")"
   ]
  },
  {
   "cell_type": "code",
   "execution_count": 5,
   "id": "713177f8-30f6-4059-af10-0c509cd30216",
   "metadata": {},
   "outputs": [
    {
     "name": "stdin",
     "output_type": "stream",
     "text": [
      "From:  1\n",
      "To:  10\n"
     ]
    },
    {
     "name": "stdout",
     "output_type": "stream",
     "text": [
      "1 4 9 \n",
      "Total no of perfect square numbers in the given range is: 3\n"
     ]
    }
   ],
   "source": [
    "# Count the number of perfect square numbers in a given range, range is take as input from user\n",
    "import math\n",
    "l= int(input(\"From: \"))\n",
    "u= int(input(\"To: \"))\n",
    "c=0\n",
    "for n in range(l,u+1):\n",
    "    root=math.sqrt(n)\n",
    "    i=int(root)\n",
    "    x=i*i\n",
    "    if(n==x):\n",
    "        c+=1\n",
    "        print(n,end=' ')\n",
    "print(\"\\nTotal no of perfect square numbers in the given range is:\",c)"
   ]
  },
  {
   "cell_type": "code",
   "execution_count": 13,
   "id": "e7a8db48-aae7-44f2-9217-bb32162b2ab7",
   "metadata": {},
   "outputs": [
    {
     "name": "stdin",
     "output_type": "stream",
     "text": [
      "Enter the upper bound:  10\n",
      "Guess a number between 1 and 10:  2\n"
     ]
    },
    {
     "name": "stdout",
     "output_type": "stream",
     "text": [
      "Your guess is too low. Try again!\n"
     ]
    },
    {
     "name": "stdin",
     "output_type": "stream",
     "text": [
      "Guess a number between 1 and 10:  4\n"
     ]
    },
    {
     "name": "stdout",
     "output_type": "stream",
     "text": [
      "Your guess is too low. Try again!\n"
     ]
    },
    {
     "name": "stdin",
     "output_type": "stream",
     "text": [
      "Guess a number between 1 and 10:  5\n"
     ]
    },
    {
     "name": "stdout",
     "output_type": "stream",
     "text": [
      "Your guess is too low. Try again!\n"
     ]
    },
    {
     "name": "stdin",
     "output_type": "stream",
     "text": [
      "Guess a number between 1 and 10:  3\n"
     ]
    },
    {
     "name": "stdout",
     "output_type": "stream",
     "text": [
      "Your guess is too low. Try again!\n"
     ]
    },
    {
     "name": "stdin",
     "output_type": "stream",
     "text": [
      "Guess a number between 1 and 10:  6\n"
     ]
    },
    {
     "name": "stdout",
     "output_type": "stream",
     "text": [
      "Your guess is too low. Try again!\n"
     ]
    },
    {
     "name": "stdin",
     "output_type": "stream",
     "text": [
      "Guess a number between 1 and 10:  8\n"
     ]
    },
    {
     "name": "stdout",
     "output_type": "stream",
     "text": [
      "Your guess is too low. Try again!\n"
     ]
    },
    {
     "name": "stdin",
     "output_type": "stream",
     "text": [
      "Guess a number between 1 and 10:  9\n"
     ]
    },
    {
     "name": "stdout",
     "output_type": "stream",
     "text": [
      "Congrats!!! You got it\n",
      "It took you 7 trials to guess the number correctly.\n"
     ]
    }
   ],
   "source": [
    "import random\n",
    "\n",
    "def guess_the_number():\n",
    "    upper_bound = int(input(\"Enter the upper bound: \"))\n",
    "    number_to_guess = random.randint(1, upper_bound)\n",
    "    trials = 0\n",
    "\n",
    "    while True:\n",
    "        guess = int(input(f\"Guess a number between 1 and {upper_bound}: \"))\n",
    "        trials += 1\n",
    "\n",
    "        if guess == number_to_guess:\n",
    "            print(\"Congrats!!! You got it\")\n",
    "            print(f\"It took you {trials} trials to guess the number correctly.\")\n",
    "            break\n",
    "        elif guess < number_to_guess:\n",
    "            print(\"Your guess is too low. Try again!\")\n",
    "        else:\n",
    "            print(\"Your guess is too high. Try again!\")\n",
    "\n",
    "guess_the_number()"
   ]
  },
  {
   "cell_type": "code",
   "execution_count": null,
   "id": "e50be2d5-53e8-4f32-8f00-49ccef0bf1f7",
   "metadata": {},
   "outputs": [],
   "source": []
  }
 ],
 "metadata": {
  "kernelspec": {
   "display_name": "Python 3 (ipykernel)",
   "language": "python",
   "name": "python3"
  },
  "language_info": {
   "codemirror_mode": {
    "name": "ipython",
    "version": 3
   },
   "file_extension": ".py",
   "mimetype": "text/x-python",
   "name": "python",
   "nbconvert_exporter": "python",
   "pygments_lexer": "ipython3",
   "version": "3.11.7"
  }
 },
 "nbformat": 4,
 "nbformat_minor": 5
}
